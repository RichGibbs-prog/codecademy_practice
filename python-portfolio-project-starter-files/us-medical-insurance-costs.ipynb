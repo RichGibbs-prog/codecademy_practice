{
 "cells": [
  {
   "cell_type": "markdown",
   "metadata": {},
   "source": [
    "# U.S. Medical Insurance Costs\n",
    "\n",
    "In this project, a **CSV** file with medical insurance costs will be investigated using Python fundamentals plus more things I discovered on the internet. The goal with this project will be to analyze various attributes within **insurance.csv** to learn more about the patient information in the file and gain insight into potential use cases for the dataset."
   ]
  },
  {
   "cell_type": "code",
   "execution_count": 1,
   "metadata": {},
   "outputs": [],
   "source": [
    "import pandas as pd"
   ]
  },
  {
   "cell_type": "markdown",
   "metadata": {},
   "source": [
    "To start, all necessary libraries must be imported. For this project the library needed is the `pandas` library in order to work with the **insurance.csv** data. There are other potential libraries that could help with this project; however, for this analysis, using just the `pandas` library will suffice."
   ]
  },
  {
   "cell_type": "code",
   "execution_count": 2,
   "metadata": {},
   "outputs": [],
   "source": [
    "df = pd.read_csv(\"insurance.csv\")"
   ]
  },
  {
   "cell_type": "markdown",
   "metadata": {},
   "source": [
    "In this project, a CSV file with medical insurance costs will be investigated using Python fundamentals. The goal with this project will be to analyze various attributes within insurance.csv to learn more about the patient information in the file and gain insight into potential use cases for the dataset."
   ]
  },
  {
   "cell_type": "markdown",
   "metadata": {},
   "source": [
    "The next step is to look through **insurance.csv** in order to get aquanted with the data. Using `pandas` makes this fairly easy. The following aspects of the data file will be checked in order to plan out how to import the data into a Python file:\n",
    "* The names of columns and rows\n",
    "* Any noticeable missing data\n",
    "* Types of values (numerical vs. categorical)"
   ]
  },
  {
   "cell_type": "code",
   "execution_count": 3,
   "metadata": {},
   "outputs": [
    {
     "data": {
      "text/plain": [
       "Index(['age', 'sex', 'bmi', 'children', 'smoker', 'region', 'charges'], dtype='object')"
      ]
     },
     "execution_count": 3,
     "metadata": {},
     "output_type": "execute_result"
    }
   ],
   "source": [
    "df.columns"
   ]
  },
  {
   "cell_type": "markdown",
   "metadata": {},
   "source": [
    "**insurance.csv** contains the following columns:\n",
    "* Patient Age\n",
    "* Patient Sex \n",
    "* Patient BMI\n",
    "* Patient Number of Children\n",
    "* Patient Smoking Status\n",
    "* Patient U.S Geopraphical Region\n",
    "* Patient Yearly Medical Insurance Cost\n",
    "\n",
    "There are no signs of missing data. To store this information, seven variables will be created to hold each individual column of data from **insurance.csv**.\n"
   ]
  },
  {
   "cell_type": "code",
   "execution_count": 4,
   "metadata": {},
   "outputs": [],
   "source": [
    "ages = df.age\n",
    "sexes = df.sex\n",
    "bmis = df.bmi\n",
    "num_of_children = df.children\n",
    "smokers = df.smoker\n",
    "regions = df.region\n",
    "charges = df.charges"
   ]
  },
  {
   "cell_type": "markdown",
   "metadata": {},
   "source": [
    "Now that all the data from **insurance.csv** neatly organized into labeled variables, the analysis can be started.  The following operations will be implemented:\n",
    "* find average age of the patients\n",
    "* return the number of males vs. females counted in the dataset\n",
    "* find geographical location where the most patients live\n",
    "* return the average yearly medical charges of the patients\n",
    "* return the average yearly medical charges of patients that are smokers vs non smokers\n",
    "* return the average age of smokers vs non smokers\n",
    "* return the average age of patients with at least one child\n",
    "* return the average insurance cost based on region"
   ]
  },
  {
   "cell_type": "code",
   "execution_count": 5,
   "metadata": {},
   "outputs": [
    {
     "name": "stdout",
     "output_type": "stream",
     "text": [
      "The average age of patients is about 39.21 years old.\n"
     ]
    }
   ],
   "source": [
    "print(f\"The average age of patients is about {round(ages.mean(),2)} years old.\")"
   ]
  },
  {
   "cell_type": "markdown",
   "metadata": {},
   "source": [
    "The average age of the patients in **insurance.csv** is about 39 years old. This is important to check in order to ensure the data in **insurance.csv** is representative for a broader population. If it is decided to use the dataset to make inferences about other populations, the data must abundant and broad enough for such use cases.\n",
    "\n",
    "A further analysis would have to be done to make sure the [range](https://www.mathsisfun.com/data/range.html#:~:text=The%20Range%20is%20the%20difference,is%209%20%E2%88%92%203%20%3D%206.) and [standard deviation](https://www.mathsisfun.com/data/standard-deviation.html) of the patient age group in **insurance.csv** is indicative of a random sampling of individuals. "
   ]
  },
  {
   "cell_type": "code",
   "execution_count": 6,
   "metadata": {},
   "outputs": [],
   "source": [
    "females = df.loc[df['sex'] == 'female']\n",
    "males = df.loc[df['sex'] == 'male']"
   ]
  },
  {
   "cell_type": "code",
   "execution_count": 7,
   "metadata": {},
   "outputs": [],
   "source": [
    "def analyze_m_f_count(m, f):\n",
    "    return f\"There are {len(m)} males and {len(f)} females.\""
   ]
  },
  {
   "cell_type": "code",
   "execution_count": 8,
   "metadata": {},
   "outputs": [
    {
     "data": {
      "text/plain": [
       "'There are 676 males and 662 females.'"
      ]
     },
     "execution_count": 8,
     "metadata": {},
     "output_type": "execute_result"
    }
   ],
   "source": [
    "analyze_m_f_count(males, females)"
   ]
  },
  {
   "cell_type": "markdown",
   "metadata": {},
   "source": [
    "The next step of the analysis is to check the balance of males vs. females in **insurance.csv**. It is important to check that this dataset is representative of a broader population of individuals. If a person were to use this dataset to create a classification model, it would be imperitive to make sure that the attributes are balanced."
   ]
  },
  {
   "cell_type": "code",
   "execution_count": 9,
   "metadata": {},
   "outputs": [
    {
     "data": {
      "text/plain": [
       "southeast    364\n",
       "southwest    325\n",
       "northwest    325\n",
       "northeast    324\n",
       "Name: region, dtype: int64"
      ]
     },
     "execution_count": 9,
     "metadata": {},
     "output_type": "execute_result"
    }
   ],
   "source": [
    "regions.value_counts()"
   ]
  },
  {
   "cell_type": "markdown",
   "metadata": {},
   "source": [
    "The next step of the analysis is to check the number of unique regions and which region has the most patients in **insurance.csv**.\n",
    "There are four unique geographical regions in this dataset, and it is important to note that all the patients come from the United States. "
   ]
  },
  {
   "cell_type": "code",
   "execution_count": 35,
   "metadata": {},
   "outputs": [],
   "source": [
    "def calculate_avg_charges(data):\n",
    "    total = 0\n",
    "    for charge in data:\n",
    "        total += charge\n",
    "    return \"$\"+'{:,}'.format(round(total / len(data),2))"
   ]
  },
  {
   "cell_type": "code",
   "execution_count": 11,
   "metadata": {},
   "outputs": [],
   "source": [
    "def analyze_total_costs(total):\n",
    "    print(f\"Average Insurance: {total}\")"
   ]
  },
  {
   "cell_type": "code",
   "execution_count": 34,
   "metadata": {},
   "outputs": [
    {
     "name": "stdout",
     "output_type": "stream",
     "text": [
      "Average Insurance: $13,270.42\n"
     ]
    }
   ],
   "source": [
    "analyze_total_costs(calculate_avg_charges(charges))"
   ]
  },
  {
   "cell_type": "markdown",
   "metadata": {},
   "source": [
    "Here I analyze the average insurance cost for all patients."
   ]
  },
  {
   "cell_type": "code",
   "execution_count": 13,
   "metadata": {},
   "outputs": [],
   "source": [
    "smokers = df.loc[df['smoker'] == 'yes']\n",
    "non_smokers = df.loc[df['smoker'] == 'no']"
   ]
  },
  {
   "cell_type": "code",
   "execution_count": 14,
   "metadata": {},
   "outputs": [],
   "source": [
    "smokers_avg_cost = calculate_avg_charges(smokers['charges'])\n",
    "non_smokers_avg_cost = calculate_avg_charges(non_smokers['charges'])"
   ]
  },
  {
   "cell_type": "code",
   "execution_count": 15,
   "metadata": {},
   "outputs": [],
   "source": [
    "def analyze_cost_by_smoker_and_non(s, ns):\n",
    "    print(f\"Smokers Average Cost:\\t  {s}\")\n",
    "    print(f\"Non Smokers Average Cost: {ns}\")"
   ]
  },
  {
   "cell_type": "code",
   "execution_count": 16,
   "metadata": {},
   "outputs": [
    {
     "name": "stdout",
     "output_type": "stream",
     "text": [
      "Smokers Average Cost:\t  $32,050.23\n",
      "Non Smokers Average Cost: $8,434.27\n"
     ]
    }
   ],
   "source": [
    "analyze_cost_by_smoker_and_non(smokers_avg_cost, non_smokers_avg_cost)"
   ]
  },
  {
   "cell_type": "markdown",
   "metadata": {},
   "source": [
    "Here I analyze the average insurance cost broken down by smokers and non smokers."
   ]
  },
  {
   "cell_type": "code",
   "execution_count": 17,
   "metadata": {},
   "outputs": [],
   "source": [
    "female_smokers = df.loc[(df['smoker'] == 'yes') & (df['sex'] == 'female')]\n",
    "male_smokers = df.loc[(df['smoker'] == 'yes') & (df['sex'] == 'male')]\n",
    "female_non_smokers = df.loc[(df['smoker'] == 'no') & (df['sex'] == 'female')]\n",
    "male_non_smokers = df.loc[(df['smoker'] == 'no') & (df['sex'] == 'male')]"
   ]
  },
  {
   "cell_type": "code",
   "execution_count": 18,
   "metadata": {},
   "outputs": [],
   "source": [
    "female_smoker_avg = calculate_avg_charges(female_smokers['charges'])\n",
    "male_smoker_avg = calculate_avg_charges(male_smokers['charges'])\n",
    "female_non_smoker_avg = calculate_avg_charges(female_non_smokers['charges'])\n",
    "male_non_smoker_avg = calculate_avg_charges(male_non_smokers['charges'])"
   ]
  },
  {
   "cell_type": "code",
   "execution_count": 36,
   "metadata": {},
   "outputs": [],
   "source": [
    "def analyze_cost_by_gender_and_smoker(m,f,mn,fn):\n",
    "    print(f\"Female Smoker Average Cost:\\t {f}\")\n",
    "    print(f\"Male Smoker Average Cost:\\t {m}\")\n",
    "    print(f\"Female Non Smoker Average Cost:\\t {fn}\")\n",
    "    print(f\"Male Non Smoker Average Cost:\\t {mn}\")"
   ]
  },
  {
   "cell_type": "code",
   "execution_count": 37,
   "metadata": {},
   "outputs": [
    {
     "name": "stdout",
     "output_type": "stream",
     "text": [
      "Female Smoker Average Cost:\t $30,679.0\n",
      "Male Smoker Average Cost:\t $33,042.01\n",
      "Female Non Smoker Average Cost:\t $8,762.3\n",
      "Male Non Smoker Average Cost:\t $8,087.2\n"
     ]
    }
   ],
   "source": [
    "analyze_cost_by_gender_and_smoker(male_smoker_avg, female_smoker_avg, male_non_smoker_avg, female_non_smoker_avg)"
   ]
  },
  {
   "cell_type": "markdown",
   "metadata": {},
   "source": [
    "For some extra analysis I want to calculate the average cost for a male smoker and a female smoker.\n",
    "Then analyze the average cost for a male non smoker and female non smoker."
   ]
  },
  {
   "cell_type": "code",
   "execution_count": 21,
   "metadata": {},
   "outputs": [],
   "source": [
    "female_smoker_avg_age = female_smokers['age'].mean()\n",
    "male_smoker_avg_age = male_smokers['age'].mean()\n",
    "female_non_smoker_avg_age = female_non_smokers['age'].mean()\n",
    "male_non_smoker_avg_age = male_non_smokers['age'].mean()"
   ]
  },
  {
   "cell_type": "code",
   "execution_count": 22,
   "metadata": {},
   "outputs": [],
   "source": [
    "def analyze_avg_age_smoker_vs_non(fsa, fna, msa, mna):\n",
    "    print(f\"Female Smoker Average Age:\\t {round(fsa,2)}\")\n",
    "    print(f\"Female Non Smoker Average Age:\\t {round(fna,2)}\")\n",
    "    print(f\"Male Smoker Average Age:\\t {round(msa,2)}\")\n",
    "    print(f\"Male Non Smoker Average Age:\\t {round(mna,2)}\")"
   ]
  },
  {
   "cell_type": "code",
   "execution_count": 23,
   "metadata": {},
   "outputs": [
    {
     "name": "stdout",
     "output_type": "stream",
     "text": [
      "Female Smoker Average Age:\t 38.61\n",
      "Female Non Smoker Average Age:\t 39.69\n",
      "Male Smoker Average Age:\t 38.45\n",
      "Male Non Smoker Average Age:\t 39.06\n"
     ]
    }
   ],
   "source": [
    "analyze_avg_age_smoker_vs_non(female_smoker_avg_age, female_non_smoker_avg_age, male_smoker_avg_age, male_non_smoker_avg_age)"
   ]
  },
  {
   "cell_type": "markdown",
   "metadata": {},
   "source": [
    "The next step of the analysis is to look at ages of smokers and non smokers in **insurance.csv**. Checking to see if there is any correlation in ages and smoking. Also we seperate the data into male and female smokers"
   ]
  },
  {
   "cell_type": "markdown",
   "metadata": {},
   "source": [
    "The average ages of a smoker and a non smoker are relatively the same."
   ]
  },
  {
   "cell_type": "code",
   "execution_count": 25,
   "metadata": {},
   "outputs": [],
   "source": [
    "patients_without = df.loc[df['children'] < 1]\n",
    "patients_with_children = df.loc[df['children'] > 0]"
   ]
  },
  {
   "cell_type": "code",
   "execution_count": 26,
   "metadata": {},
   "outputs": [],
   "source": [
    "avg_age_with_children = patients_with_children['age'].mean()\n",
    "avg_age_without = patients_without['age'].mean()"
   ]
  },
  {
   "cell_type": "code",
   "execution_count": 27,
   "metadata": {},
   "outputs": [],
   "source": [
    "def analyze_avg_age_parent_vs_non(parent, non_parent):\n",
    "    print(f\"Average Age of Patients with Children: {round(parent)}\")\n",
    "    print(f\"Average Age of Patients without Children: {round(non_parent)}\")"
   ]
  },
  {
   "cell_type": "code",
   "execution_count": 28,
   "metadata": {},
   "outputs": [
    {
     "name": "stdout",
     "output_type": "stream",
     "text": [
      "Average Age of Patients with Children: 40\n",
      "Average Age of Patients without Children: 38\n"
     ]
    }
   ],
   "source": [
    "analyze_avg_age_parent_vs_non(avg_age_with_children, avg_age_without)"
   ]
  },
  {
   "cell_type": "markdown",
   "metadata": {},
   "source": [
    "The next step of the analysis is to find out the average age of patients with at least one child and the average age of patients without children in **insurance.csv**."
   ]
  },
  {
   "cell_type": "code",
   "execution_count": 29,
   "metadata": {},
   "outputs": [],
   "source": [
    "northwest = df.loc[df['region'] == 'northwest']\n",
    "southwest = df.loc[df['region'] == 'southwest']\n",
    "southeast = df.loc[df['region'] == 'southeast']\n",
    "northeast = df.loc[df['region'] == 'northeast']"
   ]
  },
  {
   "cell_type": "code",
   "execution_count": 30,
   "metadata": {},
   "outputs": [],
   "source": [
    "southwest_average = calculate_avg_charges(southwest['charges'])\n",
    "southeast_average = calculate_avg_charges(southeast['charges'])\n",
    "northeast_average = calculate_avg_charges(northeast['charges'])\n",
    "northwest_average = calculate_avg_charges(northwest['charges'])"
   ]
  },
  {
   "cell_type": "code",
   "execution_count": 31,
   "metadata": {},
   "outputs": [],
   "source": [
    "def analyze_avg_by_region(swa,sea,nea,nwa):\n",
    "    print(f\"Southwest Average: {swa}\")\n",
    "    print(f\"Southeast Average: {sea}\")\n",
    "    print(f\"Northeast Average: {nea}\")\n",
    "    print(f\"Northwest Average: {nwa}\")"
   ]
  },
  {
   "cell_type": "code",
   "execution_count": 32,
   "metadata": {},
   "outputs": [
    {
     "name": "stdout",
     "output_type": "stream",
     "text": [
      "Southwest Average: $12,346.94\n",
      "Southeast Average: $14,735.41\n",
      "Northeast Average: $13,406.38\n",
      "Northwest Average: $12,417.58\n"
     ]
    }
   ],
   "source": [
    "analyze_avg_by_region(southwest_average, southeast_average, northeast_average, northwest_average)"
   ]
  },
  {
   "cell_type": "markdown",
   "metadata": {},
   "source": [
    "The last and final step of the analysis is to calculate the average insurance cost based on region patient lives."
   ]
  },
  {
   "cell_type": "code",
   "execution_count": 41,
   "metadata": {},
   "outputs": [
    {
     "data": {
      "text/plain": [
       "'$8,556.46'"
      ]
     },
     "execution_count": 41,
     "metadata": {},
     "output_type": "execute_result"
    }
   ],
   "source": [
    "n_west_smokers = df.loc[(df['smoker'] == 'yes') & (df['region'] == 'northwest')]\n",
    "n_west_non_smokers = df.loc[(df['smoker'] == 'no') & (df['region'] == 'northwest')]\n",
    "calculate_avg_charges(n_west_smokers['charges'])\n",
    "calculate_avg_charges(n_west_non_smokers['charges'])"
   ]
  },
  {
   "cell_type": "markdown",
   "metadata": {},
   "source": [
    "# Conclusion"
   ]
  },
  {
   "cell_type": "code",
   "execution_count": null,
   "metadata": {},
   "outputs": [],
   "source": []
  }
 ],
 "metadata": {
  "kernelspec": {
   "display_name": "Python 3",
   "language": "python",
   "name": "python3"
  },
  "language_info": {
   "codemirror_mode": {
    "name": "ipython",
    "version": 3
   },
   "file_extension": ".py",
   "mimetype": "text/x-python",
   "name": "python",
   "nbconvert_exporter": "python",
   "pygments_lexer": "ipython3",
   "version": "3.8.3"
  }
 },
 "nbformat": 4,
 "nbformat_minor": 4
}
