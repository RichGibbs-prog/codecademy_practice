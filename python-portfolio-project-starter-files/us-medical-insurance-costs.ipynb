{
 "cells": [
  {
   "cell_type": "markdown",
   "metadata": {},
   "source": [
    "# U.S. Medical Insurance Costs\n",
    "\n",
    "In this project, a **CSV** file with medical insurance costs will be investigated using Python fundamentals plus more things I discovered on the internet. The goal with this project will be to analyze various attributes within **insurance.csv** to learn more about the patient information in the file and gain insight into potential use cases for the dataset."
   ]
  },
  {
   "cell_type": "code",
   "execution_count": 1,
   "metadata": {},
   "outputs": [],
   "source": [
    "import pandas as pd"
   ]
  },
  {
   "cell_type": "markdown",
   "metadata": {},
   "source": [
    "To start, all necessary libraries must be imported. For this project the library needed is the `pandas` library in order to work with the **insurance.csv** data. There are other potential libraries that could help with this project; however, for this analysis, using just the `pandas` library will suffice."
   ]
  },
  {
   "cell_type": "code",
   "execution_count": 2,
   "metadata": {},
   "outputs": [],
   "source": [
    "df = pd.read_csv(\"insurance.csv\")"
   ]
  },
  {
   "cell_type": "markdown",
   "metadata": {},
   "source": [
    "In this project, a CSV file with medical insurance costs will be investigated using Python fundamentals. The goal with this project will be to analyze various attributes within insurance.csv to learn more about the patient information in the file and gain insight into potential use cases for the dataset."
   ]
  },
  {
   "cell_type": "markdown",
   "metadata": {},
   "source": [
    "The next step is to look through **insurance.csv** in order to get aquanted with the data. Using `pandas` makes this fairly easy. The following aspects of the data file will be checked in order to plan out how to import the data into a Python file:\n",
    "* The names of columns and rows\n",
    "* Any noticeable missing data\n",
    "* Types of values (numerical vs. categorical)"
   ]
  },
  {
   "cell_type": "code",
   "execution_count": 3,
   "metadata": {},
   "outputs": [
    {
     "data": {
      "text/plain": [
       "Index(['age', 'sex', 'bmi', 'children', 'smoker', 'region', 'charges'], dtype='object')"
      ]
     },
     "execution_count": 3,
     "metadata": {},
     "output_type": "execute_result"
    }
   ],
   "source": [
    "df.columns"
   ]
  },
  {
   "cell_type": "markdown",
   "metadata": {},
   "source": [
    "**insurance.csv** contains the following columns:\n",
    "* Patient Age\n",
    "* Patient Sex \n",
    "* Patient BMI\n",
    "* Patient Number of Children\n",
    "* Patient Smoking Status\n",
    "* Patient U.S Geopraphical Region\n",
    "* Patient Yearly Medical Insurance Cost\n",
    "\n",
    "There are no signs of missing data. To store this information, seven variables will be created to hold each individual column of data from **insurance.csv**.\n"
   ]
  },
  {
   "cell_type": "code",
   "execution_count": 4,
   "metadata": {},
   "outputs": [],
   "source": [
    "ages = df.age\n",
    "sexes = df.sex\n",
    "bmis = df.bmi\n",
    "num_of_children = df.children\n",
    "smokers = df.smoker\n",
    "regions = df.region\n",
    "charges = df.charges"
   ]
  },
  {
   "cell_type": "markdown",
   "metadata": {},
   "source": [
    "Now that all the data from **insurance.csv** neatly organized into labeled variables, the analysis can be started.  The following operations will be implemented:\n",
    "* find average age of the patients\n",
    "* find average bmi of the patients\n",
    "* return the number of males vs. females counted in the dataset\n",
    "* find geographical location where the most patients live\n",
    "* return the average yearly medical charges of the patients\n",
    "* return the average yearly medical charges of patients that are smokers vs non smokers\n",
    "* return the average age of smokers vs non smokers\n",
    "* return the average age of patients with at least one child\n",
    "* return the average insurance cost based on region\n",
    "* return the average insurance cost of males and females by region\n",
    "* return the average bmi of males and females based on region"
   ]
  },
  {
   "cell_type": "markdown",
   "metadata": {},
   "source": [
    "# Average Age All Patients"
   ]
  },
  {
   "cell_type": "code",
   "execution_count": 160,
   "metadata": {},
   "outputs": [
    {
     "name": "stdout",
     "output_type": "stream",
     "text": [
      "The average age of patients is about 39.21 years old.\n"
     ]
    }
   ],
   "source": [
    "print(f\"The average age of patients is about {round(ages.mean(),2)} years old.\")"
   ]
  },
  {
   "cell_type": "markdown",
   "metadata": {},
   "source": [
    "The average age of the patients in **insurance.csv** is about 39 years old. This is important to check in order to ensure the data in **insurance.csv** is representative for a broader population. If it is decided to use the dataset to make inferences about other populations, the data must abundant and broad enough for such use cases.\n",
    "\n",
    "A further analysis would have to be done to make sure the [range](https://www.mathsisfun.com/data/range.html#:~:text=The%20Range%20is%20the%20difference,is%209%20%E2%88%92%203%20%3D%206.) and [standard deviation](https://www.mathsisfun.com/data/standard-deviation.html) of the patient age group in **insurance.csv** is indicative of a random sampling of individuals. "
   ]
  },
  {
   "cell_type": "markdown",
   "metadata": {},
   "source": [
    "# Number of Males VS Females"
   ]
  },
  {
   "cell_type": "code",
   "execution_count": 161,
   "metadata": {},
   "outputs": [],
   "source": [
    "females = df.loc[df['sex'] == 'female']\n",
    "males = df.loc[df['sex'] == 'male']"
   ]
  },
  {
   "cell_type": "code",
   "execution_count": 162,
   "metadata": {},
   "outputs": [],
   "source": [
    "def analyze_m_f_count(m, f):\n",
    "    return f\"There are {len(m)} males and {len(f)} females.\""
   ]
  },
  {
   "cell_type": "code",
   "execution_count": 163,
   "metadata": {},
   "outputs": [
    {
     "data": {
      "text/plain": [
       "'There are 676 males and 662 females.'"
      ]
     },
     "execution_count": 163,
     "metadata": {},
     "output_type": "execute_result"
    }
   ],
   "source": [
    "analyze_m_f_count(males, females)"
   ]
  },
  {
   "cell_type": "markdown",
   "metadata": {},
   "source": [
    "The next step of the analysis is to check the balance of males vs. females in **insurance.csv**. It is important to check that this dataset is representative of a broader population of individuals. If a person were to use this dataset to create a classification model, it would be imperitive to make sure that the attributes are balanced."
   ]
  },
  {
   "cell_type": "markdown",
   "metadata": {},
   "source": [
    "# Geographical Location Where Most Patients Live"
   ]
  },
  {
   "cell_type": "code",
   "execution_count": 164,
   "metadata": {},
   "outputs": [
    {
     "data": {
      "text/plain": [
       "southeast    364\n",
       "northwest    325\n",
       "southwest    325\n",
       "northeast    324\n",
       "Name: region, dtype: int64"
      ]
     },
     "execution_count": 164,
     "metadata": {},
     "output_type": "execute_result"
    }
   ],
   "source": [
    "regions.value_counts()"
   ]
  },
  {
   "cell_type": "markdown",
   "metadata": {},
   "source": [
    "The next step of the analysis is to check the number of unique regions and which region has the most patients in **insurance.csv**.\n",
    "There are four unique geographical regions in this dataset, and it is important to note that all the patients come from the United States. "
   ]
  },
  {
   "cell_type": "markdown",
   "metadata": {},
   "source": [
    "# Average Yearly Medical Charges"
   ]
  },
  {
   "cell_type": "code",
   "execution_count": 165,
   "metadata": {},
   "outputs": [],
   "source": [
    "def analyze_total_costs(total):\n",
    "    print(f\"Average Insurance: {total}\")"
   ]
  },
  {
   "cell_type": "code",
   "execution_count": 166,
   "metadata": {},
   "outputs": [],
   "source": [
    "def calculate_avg_charges(data):\n",
    "    total = 0\n",
    "    for charge in data:\n",
    "        total += charge\n",
    "    return \"$\"+'{:,}'.format(round(total / len(data),2))"
   ]
  },
  {
   "cell_type": "code",
   "execution_count": 167,
   "metadata": {},
   "outputs": [
    {
     "name": "stdout",
     "output_type": "stream",
     "text": [
      "Average Insurance: $13,270.42\n"
     ]
    }
   ],
   "source": [
    "analyze_total_costs(calculate_avg_charges(charges))"
   ]
  },
  {
   "cell_type": "markdown",
   "metadata": {},
   "source": [
    "Here I analyze the average insurance cost for all patients."
   ]
  },
  {
   "cell_type": "markdown",
   "metadata": {},
   "source": [
    "# Average Yearly Medical Charges Smokers VS Non Smokers"
   ]
  },
  {
   "cell_type": "code",
   "execution_count": 168,
   "metadata": {},
   "outputs": [],
   "source": [
    "smokers = df.loc[df['smoker'] == 'yes']\n",
    "non_smokers = df.loc[df['smoker'] == 'no']"
   ]
  },
  {
   "cell_type": "code",
   "execution_count": 169,
   "metadata": {},
   "outputs": [],
   "source": [
    "smokers_avg_cost = calculate_avg_charges(smokers['charges'])\n",
    "non_smokers_avg_cost = calculate_avg_charges(non_smokers['charges'])"
   ]
  },
  {
   "cell_type": "code",
   "execution_count": 170,
   "metadata": {},
   "outputs": [],
   "source": [
    "def analyze_cost_by_smoker_and_non(s, ns):\n",
    "    print(f\"Smokers Average Cost:\\t  {s}\")\n",
    "    print(f\"Non Smokers Average Cost: {ns}\")"
   ]
  },
  {
   "cell_type": "code",
   "execution_count": 171,
   "metadata": {},
   "outputs": [
    {
     "name": "stdout",
     "output_type": "stream",
     "text": [
      "Smokers Average Cost:\t  $32,050.23\n",
      "Non Smokers Average Cost: $8,434.27\n"
     ]
    }
   ],
   "source": [
    "analyze_cost_by_smoker_and_non(smokers_avg_cost, non_smokers_avg_cost)"
   ]
  },
  {
   "cell_type": "markdown",
   "metadata": {},
   "source": [
    "Here I analyze the average insurance cost broken down by smokers and non smokers.\n",
    "Smokers pay significantly more on average than non smokers"
   ]
  },
  {
   "cell_type": "markdown",
   "metadata": {},
   "source": [
    "# Male Average Cost"
   ]
  },
  {
   "cell_type": "code",
   "execution_count": 172,
   "metadata": {},
   "outputs": [],
   "source": [
    "def analyze_cost_smoker(sm,ns):\n",
    "    print(f\"Smoker Average Cost:\\t {sm}\")\n",
    "    print(f\"Non Smoker Average Cost: {ns}\")"
   ]
  },
  {
   "cell_type": "code",
   "execution_count": 173,
   "metadata": {},
   "outputs": [],
   "source": [
    "male_smokers = df.loc[(df['smoker'] == 'yes') & (df['sex'] == 'male')]\n",
    "male_non_smokers = df.loc[(df['smoker'] == 'no') & (df['sex'] == 'male')]"
   ]
  },
  {
   "cell_type": "code",
   "execution_count": 174,
   "metadata": {},
   "outputs": [],
   "source": [
    "male_smoker_avg = calculate_avg_charges(male_smokers['charges'])\n",
    "male_non_smoker_avg = calculate_avg_charges(male_non_smokers['charges'])"
   ]
  },
  {
   "cell_type": "code",
   "execution_count": 175,
   "metadata": {},
   "outputs": [
    {
     "name": "stdout",
     "output_type": "stream",
     "text": [
      "Smoker Average Cost:\t $33,042.01\n",
      "Non Smoker Average Cost: $8,087.2\n"
     ]
    }
   ],
   "source": [
    "analyze_cost_smoker(male_smoker_avg, male_non_smoker_avg)"
   ]
  },
  {
   "cell_type": "markdown",
   "metadata": {},
   "source": [
    "# Female Average Cost"
   ]
  },
  {
   "cell_type": "code",
   "execution_count": 176,
   "metadata": {},
   "outputs": [],
   "source": [
    "female_smokers = df.loc[(df['smoker'] == 'yes') & (df['sex'] == 'female')]\n",
    "female_non_smokers = df.loc[(df['smoker'] == 'no') & (df['sex'] == 'female')]"
   ]
  },
  {
   "cell_type": "code",
   "execution_count": 177,
   "metadata": {},
   "outputs": [],
   "source": [
    "female_smoker_avg = calculate_avg_charges(female_smokers['charges'])\n",
    "female_non_smoker_avg = calculate_avg_charges(female_non_smokers['charges'])"
   ]
  },
  {
   "cell_type": "code",
   "execution_count": 178,
   "metadata": {},
   "outputs": [
    {
     "name": "stdout",
     "output_type": "stream",
     "text": [
      "Smoker Average Cost:\t $30,679.0\n",
      "Non Smoker Average Cost: $8,762.3\n"
     ]
    }
   ],
   "source": [
    "analyze_cost_smoker(female_smoker_avg, female_non_smoker_avg)"
   ]
  },
  {
   "cell_type": "markdown",
   "metadata": {},
   "source": [
    "For some extra analysis I want to calculate the average cost for a male smoker and a female smoker.\n",
    "Then analyze the average cost for a male non smoker and female non smoker. Male smokers pay more than female smokers, and male non smokers pay less than female non smokers."
   ]
  },
  {
   "cell_type": "markdown",
   "metadata": {},
   "source": [
    "# Average Male Age"
   ]
  },
  {
   "cell_type": "code",
   "execution_count": 179,
   "metadata": {},
   "outputs": [],
   "source": [
    "def analyze_avg_age(sa, nsa):\n",
    "    print(f\"Smoker Average Age:\\t {round(sa,2)}\")\n",
    "    print(f\"Non Smoker Average Age:\\t {round(nsa,2)}\")"
   ]
  },
  {
   "cell_type": "code",
   "execution_count": 180,
   "metadata": {},
   "outputs": [],
   "source": [
    "male_non_smoker_avg_age = male_non_smokers['age'].mean()\n",
    "male_smoker_avg_age = male_smokers['age'].mean()"
   ]
  },
  {
   "cell_type": "code",
   "execution_count": 181,
   "metadata": {},
   "outputs": [
    {
     "name": "stdout",
     "output_type": "stream",
     "text": [
      "Smoker Average Age:\t 38.45\n",
      "Non Smoker Average Age:\t 39.06\n"
     ]
    }
   ],
   "source": [
    "analyze_avg_age(male_smoker_avg_age, male_non_smoker_avg_age)"
   ]
  },
  {
   "cell_type": "markdown",
   "metadata": {},
   "source": [
    "# Average Female Age"
   ]
  },
  {
   "cell_type": "code",
   "execution_count": 182,
   "metadata": {},
   "outputs": [],
   "source": [
    "female_smoker_avg_age = female_smokers['age'].mean()\n",
    "female_non_smoker_avg_age = female_non_smokers['age'].mean()"
   ]
  },
  {
   "cell_type": "code",
   "execution_count": 183,
   "metadata": {},
   "outputs": [
    {
     "name": "stdout",
     "output_type": "stream",
     "text": [
      "Smoker Average Age:\t 38.61\n",
      "Non Smoker Average Age:\t 39.69\n"
     ]
    }
   ],
   "source": [
    "analyze_avg_age(female_smoker_avg_age, female_non_smoker_avg_age)"
   ]
  },
  {
   "cell_type": "markdown",
   "metadata": {},
   "source": [
    "The next step of the analysis is to look at ages of smokers and non smokers in **insurance.csv**. Checking to see if there is any correlation in ages and smoking. Also we seperate the data into male and female smokers"
   ]
  },
  {
   "cell_type": "markdown",
   "metadata": {},
   "source": [
    "The average ages of a smoker and a non smoker are relatively the same."
   ]
  },
  {
   "cell_type": "markdown",
   "metadata": {},
   "source": [
    "# Average Age Patients With Kids VS Without"
   ]
  },
  {
   "cell_type": "code",
   "execution_count": 184,
   "metadata": {},
   "outputs": [],
   "source": [
    "def analyze_avg_age_parent_vs_non(parent, non_parent):\n",
    "    print(f\"Average Age of Patients with Children: {round(parent)}\")\n",
    "    print(f\"Average Age of Patients without Children: {round(non_parent)}\")"
   ]
  },
  {
   "cell_type": "code",
   "execution_count": 185,
   "metadata": {},
   "outputs": [],
   "source": [
    "patients_without = df.loc[df['children'] < 1]\n",
    "patients_with_children = df.loc[df['children'] > 0]"
   ]
  },
  {
   "cell_type": "code",
   "execution_count": 186,
   "metadata": {},
   "outputs": [],
   "source": [
    "avg_age_with_children = patients_with_children['age'].mean()\n",
    "avg_age_without = patients_without['age'].mean()"
   ]
  },
  {
   "cell_type": "code",
   "execution_count": 187,
   "metadata": {},
   "outputs": [
    {
     "name": "stdout",
     "output_type": "stream",
     "text": [
      "Average Age of Patients with Children: 40\n",
      "Average Age of Patients without Children: 38\n"
     ]
    }
   ],
   "source": [
    "analyze_avg_age_parent_vs_non(avg_age_with_children, avg_age_without)"
   ]
  },
  {
   "cell_type": "markdown",
   "metadata": {},
   "source": [
    "The next step of the analysis is to find out the average age of patients with at least one child and the average age of patients without children in **insurance.csv**."
   ]
  },
  {
   "cell_type": "markdown",
   "metadata": {},
   "source": [
    "The average age of patients with kids versus without kids is relatively the same."
   ]
  },
  {
   "cell_type": "markdown",
   "metadata": {},
   "source": [
    "# Average Yearly Medical Costs by Region"
   ]
  },
  {
   "cell_type": "code",
   "execution_count": 188,
   "metadata": {},
   "outputs": [],
   "source": [
    "def analyze_avg_by_region(swa,sea,nea,nwa):\n",
    "    print(f\"Southwest Average: {swa}\")\n",
    "    print(f\"Southeast Average: {sea}\")\n",
    "    print(f\"Northeast Average: {nea}\")\n",
    "    print(f\"Northwest Average: {nwa}\")"
   ]
  },
  {
   "cell_type": "code",
   "execution_count": 189,
   "metadata": {},
   "outputs": [],
   "source": [
    "northwest = df.loc[df['region'] == 'northwest']\n",
    "southwest = df.loc[df['region'] == 'southwest']\n",
    "southeast = df.loc[df['region'] == 'southeast']\n",
    "northeast = df.loc[df['region'] == 'northeast']"
   ]
  },
  {
   "cell_type": "code",
   "execution_count": 190,
   "metadata": {},
   "outputs": [],
   "source": [
    "southwest_average = calculate_avg_charges(southwest['charges'])\n",
    "southeast_average = calculate_avg_charges(southeast['charges'])\n",
    "northeast_average = calculate_avg_charges(northeast['charges'])\n",
    "northwest_average = calculate_avg_charges(northwest['charges'])"
   ]
  },
  {
   "cell_type": "code",
   "execution_count": 191,
   "metadata": {
    "scrolled": false
   },
   "outputs": [
    {
     "name": "stdout",
     "output_type": "stream",
     "text": [
      "Southwest Average: $12,346.94\n",
      "Southeast Average: $14,735.41\n",
      "Northeast Average: $13,406.38\n",
      "Northwest Average: $12,417.58\n"
     ]
    }
   ],
   "source": [
    "analyze_avg_by_region(southwest_average, southeast_average, northeast_average, northwest_average)"
   ]
  },
  {
   "cell_type": "markdown",
   "metadata": {},
   "source": [
    "Here we see the see the Southeast has the highest average yearly medical costs."
   ]
  },
  {
   "cell_type": "markdown",
   "metadata": {},
   "source": [
    "# Female Average Yearly Medical Costs by Region:"
   ]
  },
  {
   "cell_type": "code",
   "execution_count": 192,
   "metadata": {},
   "outputs": [],
   "source": [
    "def analyze_by_region_smokers_v_non(nws, nwn, nes, nen, sws, swn, ses, sen):\n",
    "    print(f\"Norhtwest Smoker Average:\\t {nws}\")\n",
    "    print(f\"Northwest Non Smoker Average:\\t {nwn}\\n\")\n",
    "    print(f\"Northeast Smoker Average:\\t {nes}\")\n",
    "    print(f\"Northeast Non Smoker Average:\\t {nen}\\n\")\n",
    "    print(f\"Southwest Smoker Average:\\t {sws}\")\n",
    "    print(f\"Southwest Non Smoker Average:\\t {swn}\\n\")\n",
    "    print(f\"Southeast Smoker Average:\\t {ses}\")\n",
    "    print(f\"Southeast Non Smoker Average:\\t {sen}\")"
   ]
  },
  {
   "cell_type": "code",
   "execution_count": 193,
   "metadata": {},
   "outputs": [],
   "source": [
    "f_n_west_smokers = df.loc[(df['smoker'] == 'yes') & (df['region'] == 'northwest') & (df['sex'] == 'female')]\n",
    "f_n_west_non_smokers = df.loc[(df['smoker'] == 'no') & (df['region'] == 'northwest') & (df['sex'] == 'female')]\n",
    "f_s_east_smokers = df.loc[(df['smoker'] == 'yes') & (df['region'] == 'southeast') & (df['sex'] == 'female')]\n",
    "f_s_east_non_smokers = df.loc[(df['smoker'] == 'no') & (df['region'] == 'southeast') & (df['sex'] == 'female')]\n",
    "f_n_east_smokers = df.loc[(df['smoker'] == 'yes') & (df['region'] == 'northeast') & (df['sex'] == 'female')]\n",
    "f_n_east_non_smokers = df.loc[(df['smoker'] == 'no') & (df['region'] == 'northeast') & (df['sex'] == 'female')]\n",
    "f_s_west_smokers = df.loc[(df['smoker'] == 'yes') & (df['region'] == 'southwest') & (df['sex'] == 'female')]\n",
    "f_s_west_non_smokers = df.loc[(df['smoker'] == 'no') & (df['region'] == 'southwest') & (df['sex'] == 'female')]"
   ]
  },
  {
   "cell_type": "code",
   "execution_count": 194,
   "metadata": {},
   "outputs": [],
   "source": [
    "f_n_west_smoker_avg = calculate_avg_charges(f_n_west_smokers['charges'])\n",
    "f_n_west_non_smoker_avg = calculate_avg_charges(f_n_west_non_smokers['charges'])\n",
    "f_s_west_smoker_avg = calculate_avg_charges(f_s_west_smokers['charges'])\n",
    "f_s_west_non_smoker_avg = calculate_avg_charges(f_s_west_non_smokers['charges'])\n",
    "f_s_east_smoker_avg = calculate_avg_charges(f_s_east_smokers['charges'])\n",
    "f_s_east_non_smoker_avg = calculate_avg_charges(f_s_east_non_smokers['charges'])\n",
    "f_n_east_smoker_avg = calculate_avg_charges(f_n_east_smokers['charges'])\n",
    "f_n_east_non_smoker_avg = calculate_avg_charges(f_n_east_non_smokers['charges'])"
   ]
  },
  {
   "cell_type": "code",
   "execution_count": 195,
   "metadata": {},
   "outputs": [
    {
     "name": "stdout",
     "output_type": "stream",
     "text": [
      "Norhtwest Smoker Average:\t $29,670.82\n",
      "Northwest Non Smoker Average:\t $8,787.0\n",
      "\n",
      "Northeast Smoker Average:\t $31,687.99\n",
      "Northeast Non Smoker Average:\t $8,234.09\n",
      "\n",
      "Southwest Smoker Average:\t $33,034.82\n",
      "Southwest Non Smoker Average:\t $8,440.21\n",
      "\n",
      "Southeast Smoker Average:\t $28,032.05\n",
      "Southeast Non Smoker Average:\t $9,640.43\n"
     ]
    }
   ],
   "source": [
    "female_by_region = analyze_by_region_smokers_v_non(f_n_west_smoker_avg, f_n_west_non_smoker_avg, f_s_west_smoker_avg, f_s_west_non_smoker_avg, f_s_east_smoker_avg, f_s_east_non_smoker_avg, f_n_east_smoker_avg, f_n_east_non_smoker_avg)"
   ]
  },
  {
   "cell_type": "markdown",
   "metadata": {},
   "source": [
    "Here we see on average that female smokers in the southwest pay the most, and female smokers in the northeast pay the least."
   ]
  },
  {
   "cell_type": "markdown",
   "metadata": {},
   "source": [
    "# Cost Analysis for Males by Region:"
   ]
  },
  {
   "cell_type": "code",
   "execution_count": 196,
   "metadata": {},
   "outputs": [],
   "source": [
    "m_n_west_smokers = df.loc[(df['smoker'] == 'yes') & (df['region'] == 'northwest') & (df['sex'] == 'male')]\n",
    "m_n_west_non_smokers = df.loc[(df['smoker'] == 'no') & (df['region'] == 'northwest') & (df['sex'] == 'male')]\n",
    "m_n_east_smokers = df.loc[(df['smoker'] == 'yes') & (df['region'] == 'northeast') & (df['sex'] == 'male')]\n",
    "m_n_east_non_smokers = df.loc[(df['smoker'] == 'no') & (df['region'] == 'northeast') & (df['sex'] == 'male')]\n",
    "m_s_west_smokers = df.loc[(df['smoker'] == 'yes') & (df['region'] == 'southwest') & (df['sex'] == 'male')]\n",
    "m_s_west_non_smokers = df.loc[(df['smoker'] == 'no') & (df['region'] == 'southwest') & (df['sex'] == 'male')]\n",
    "m_s_east_smokers = df.loc[(df['smoker'] == 'yes') & (df['region'] == 'southeast') & (df['sex'] == 'male')]\n",
    "m_s_east_non_smokers = df.loc[(df['smoker'] == 'no') & (df['region'] == 'southeast') & (df['sex'] == 'male')]"
   ]
  },
  {
   "cell_type": "code",
   "execution_count": 197,
   "metadata": {},
   "outputs": [],
   "source": [
    "m_n_west_smoker_avg = calculate_avg_charges(m_n_west_smokers['charges'])\n",
    "m_n_west_non_smoker_avg = calculate_avg_charges(m_n_west_non_smokers['charges'])\n",
    "m_s_west_smoker_avg = calculate_avg_charges(m_s_west_smokers['charges'])\n",
    "m_s_west_non_smoker_avg = calculate_avg_charges(m_s_west_non_smokers['charges'])\n",
    "m_s_east_smoker_avg = calculate_avg_charges(m_s_east_smokers['charges'])\n",
    "m_s_east_non_smoker_avg = calculate_avg_charges(m_s_east_non_smokers['charges'])\n",
    "m_n_east_smoker_avg = calculate_avg_charges(m_n_east_smokers['charges'])\n",
    "m_n_east_non_smoker_avg = calculate_avg_charges(m_n_east_non_smokers['charges'])"
   ]
  },
  {
   "cell_type": "code",
   "execution_count": 198,
   "metadata": {
    "scrolled": true
   },
   "outputs": [
    {
     "name": "stdout",
     "output_type": "stream",
     "text": [
      "Norhtwest Smoker Average:\t $30,713.18\n",
      "Northwest Non Smoker Average:\t $8,320.69\n",
      "\n",
      "Northeast Smoker Average:\t $32,598.86\n",
      "Northeast Non Smoker Average:\t $7,778.91\n",
      "\n",
      "Southwest Smoker Average:\t $36,029.84\n",
      "Southwest Non Smoker Average:\t $7,609.0\n",
      "\n",
      "Southeast Smoker Average:\t $30,926.25\n",
      "Southeast Non Smoker Average:\t $8,664.04\n"
     ]
    }
   ],
   "source": [
    "male_by_region = analyze_by_region_smokers_v_non(m_n_west_smoker_avg, m_n_west_non_smoker_avg, m_s_west_smoker_avg, m_s_west_non_smoker_avg, m_s_east_smoker_avg, m_s_east_non_smoker_avg, m_n_east_smoker_avg, m_n_east_non_smoker_avg)"
   ]
  },
  {
   "cell_type": "markdown",
   "metadata": {},
   "source": [
    "Here we can see that the male smoker in the southwest pays the most, and the male smoker in the southwest pays the least."
   ]
  },
  {
   "cell_type": "markdown",
   "metadata": {},
   "source": [
    "# Average Patient BMI"
   ]
  },
  {
   "cell_type": "code",
   "execution_count": 199,
   "metadata": {},
   "outputs": [
    {
     "data": {
      "text/plain": [
       "30.66"
      ]
     },
     "execution_count": 199,
     "metadata": {},
     "output_type": "execute_result"
    }
   ],
   "source": [
    "round(bmis.mean(),2)"
   ]
  },
  {
   "cell_type": "markdown",
   "metadata": {},
   "source": [
    "Here we see the average bmi for all patients is about 31"
   ]
  },
  {
   "cell_type": "markdown",
   "metadata": {},
   "source": [
    "# Average BMI Smoker VS Non Smoker"
   ]
  },
  {
   "cell_type": "code",
   "execution_count": 200,
   "metadata": {},
   "outputs": [],
   "source": [
    "average_smoker_bmi = round(smokers['bmi'].mean(),2)\n",
    "average_non_smoker_bmi = round(non_smokers['bmi'].mean(),2)"
   ]
  },
  {
   "cell_type": "code",
   "execution_count": 201,
   "metadata": {},
   "outputs": [],
   "source": [
    "def analyze_bmi(asb, ansb):\n",
    "    print(f\"Average Smoker BMI: {asb}\")\n",
    "    print(f\"Average Non Smoker BMI: {ansb}\")"
   ]
  },
  {
   "cell_type": "code",
   "execution_count": 202,
   "metadata": {},
   "outputs": [
    {
     "name": "stdout",
     "output_type": "stream",
     "text": [
      "Average Smoker BMI: 30.71\n",
      "Average Non Smoker BMI: 30.65\n"
     ]
    }
   ],
   "source": [
    "analyze_bmi(average_smoker_bmi, average_non_smoker_bmi)"
   ]
  },
  {
   "cell_type": "markdown",
   "metadata": {},
   "source": [
    "The average bmi between smokers and non smokers is relatively the same"
   ]
  },
  {
   "cell_type": "markdown",
   "metadata": {},
   "source": [
    "# Average BMI by Region"
   ]
  },
  {
   "cell_type": "code",
   "execution_count": 203,
   "metadata": {},
   "outputs": [],
   "source": [
    "avg_n_west_bmi = round(northwest['bmi'].mean(),2)\n",
    "avg_n_east_bmi = round(northeast['bmi'].mean(),2)\n",
    "avg_s_west_bmi = round(southwest['bmi'].mean(),2)\n",
    "avg_s_east_bmi = round(southeast['bmi'].mean(),2)"
   ]
  },
  {
   "cell_type": "code",
   "execution_count": 204,
   "metadata": {},
   "outputs": [],
   "source": [
    "def analyze_bmi_by_region(anw, ane, asw, ase):\n",
    "    print(f\"Average Northwest BMI: {anw}\")\n",
    "    print(f\"Average Northeast BMI: {ane}\")\n",
    "    print(f\"Average Southwest BMI: {asw}\")\n",
    "    print(f\"Average Southeast BMI: {ase}\")"
   ]
  },
  {
   "cell_type": "code",
   "execution_count": 205,
   "metadata": {},
   "outputs": [
    {
     "name": "stdout",
     "output_type": "stream",
     "text": [
      "Average Northwest BMI: 29.2\n",
      "Average Northeast BMI: 29.17\n",
      "Average Southwest BMI: 30.6\n",
      "Average Southeast BMI: 33.36\n"
     ]
    }
   ],
   "source": [
    "analyze_bmi_by_region(avg_n_west_bmi, avg_n_east_bmi,  avg_s_west_bmi, avg_s_east_bmi)"
   ]
  },
  {
   "cell_type": "markdown",
   "metadata": {},
   "source": [
    "Patients in the southeast have the highest average bmi"
   ]
  },
  {
   "cell_type": "markdown",
   "metadata": {},
   "source": [
    "# Average Male BMI by Region"
   ]
  },
  {
   "cell_type": "code",
   "execution_count": 206,
   "metadata": {},
   "outputs": [],
   "source": [
    "m_n_west_smoker_avg_bmi = round(m_n_west_smokers['bmi'].mean(),2)\n",
    "m_n_west_non_smoker_avg_bmi = round(m_n_west_non_smokers['bmi'].mean(),2)\n",
    "m_n_east_smoker_avg_bmi = round(m_n_east_smokers['bmi'].mean(),2)\n",
    "m_n_east_non_smoker_avg_bmi = round(m_n_east_non_smokers['bmi'].mean(),2)\n",
    "m_s_west_smoker_avg_bmi = round(m_s_west_smokers['bmi'].mean(),2)\n",
    "m_s_west_non_smoker_avg_bmi = round(m_s_west_non_smokers['bmi'].mean(),2)\n",
    "m_s_east_smoker_avg_bmi = round(m_s_east_smokers['bmi'].mean(),2)\n",
    "m_s_east_non_smoker_avg_bmi = round(m_s_east_non_smokers['bmi'].mean(),2)"
   ]
  },
  {
   "cell_type": "code",
   "execution_count": 207,
   "metadata": {},
   "outputs": [],
   "source": [
    "def analyze_bmi_by_region_smokers_v_non(nws, nwn, nes, nen, sws, swn, ses, sen):\n",
    "    print(f\"Norhtwest Smoker Average BMI:\\t  {nws}\")\n",
    "    print(f\"Northwest Non Smoker Average BMI: {nwn}\\n\")\n",
    "    print(f\"Northeast Smoker Average BMI:\\t  {nes}\")\n",
    "    print(f\"Northeast Non Smoker Average BMI: {nen}\\n\")\n",
    "    print(f\"Southwest Smoker Average BMI:\\t  {sws}\")\n",
    "    print(f\"Southwest Non Smoker Average BMI: {swn}\\n\")\n",
    "    print(f\"Southeast Smoker Average BMI:\\t  {ses}\")\n",
    "    print(f\"Southeast Non Smoker Average BMI: {sen}\")"
   ]
  },
  {
   "cell_type": "code",
   "execution_count": 208,
   "metadata": {},
   "outputs": [
    {
     "name": "stdout",
     "output_type": "stream",
     "text": [
      "Norhtwest Smoker Average BMI:\t  29.98\n",
      "Northwest Non Smoker Average BMI: 28.93\n",
      "\n",
      "Northeast Smoker Average BMI:\t  29.56\n",
      "Northeast Non Smoker Average BMI: 28.86\n",
      "\n",
      "Southwest Smoker Average BMI:\t  31.5\n",
      "Southwest Non Smoker Average BMI: 31.02\n",
      "\n",
      "Southeast Smoker Average BMI:\t  33.65\n",
      "Southeast Non Smoker Average BMI: 34.13\n"
     ]
    }
   ],
   "source": [
    "analyze_bmi_by_region_smokers_v_non(m_n_west_smoker_avg_bmi, m_n_west_non_smoker_avg_bmi, m_n_east_smoker_avg_bmi, m_n_east_non_smoker_avg_bmi, m_s_west_smoker_avg_bmi, m_s_west_non_smoker_avg_bmi, m_s_east_smoker_avg_bmi, m_s_east_non_smoker_avg_bmi)"
   ]
  },
  {
   "cell_type": "markdown",
   "metadata": {},
   "source": [
    "Here we see the average male bmi is highest in the southeast for both smokers and non smokers"
   ]
  },
  {
   "cell_type": "markdown",
   "metadata": {},
   "source": [
    "# Average Female BMI by Region"
   ]
  },
  {
   "cell_type": "code",
   "execution_count": 209,
   "metadata": {},
   "outputs": [],
   "source": [
    "f_n_west_smoker_avg_bmi = round(f_n_west_smokers['bmi'].mean(),2)\n",
    "f_n_west_non_smoker_avg_bmi = round(f_n_west_non_smokers['bmi'].mean(),2)\n",
    "f_n_east_smoker_avg_bmi = round(f_n_east_smokers['bmi'].mean(),2)\n",
    "f_n_east_non_smoker_avg_bmi = round(f_n_east_non_smokers['bmi'].mean(),2)\n",
    "f_s_west_smoker_avg_bmi = round(f_s_west_smokers['bmi'].mean(),2)\n",
    "f_s_west_non_smoker_avg_bmi = round(f_s_west_non_smokers['bmi'].mean(),2)\n",
    "f_s_east_smoker_avg_bmi = round(f_s_east_smokers['bmi'].mean(),2)\n",
    "f_s_east_non_smoker_avg_bmi = round(f_s_east_non_smokers['bmi'].mean(),2)"
   ]
  },
  {
   "cell_type": "code",
   "execution_count": 210,
   "metadata": {},
   "outputs": [
    {
     "name": "stdout",
     "output_type": "stream",
     "text": [
      "Norhtwest Smoker Average BMI:\t  28.3\n",
      "Northwest Non Smoker Average BMI: 29.49\n",
      "\n",
      "Northeast Smoker Average BMI:\t  27.26\n",
      "Northeast Non Smoker Average BMI: 29.78\n",
      "\n",
      "Southwest Smoker Average BMI:\t  30.13\n",
      "Southwest Non Smoker Average BMI: 30.05\n",
      "\n",
      "Southeast Smoker Average BMI:\t  32.25\n",
      "Southeast Non Smoker Average BMI: 32.78\n"
     ]
    }
   ],
   "source": [
    "analyze_bmi_by_region_smokers_v_non(f_n_west_smoker_avg_bmi, f_n_west_non_smoker_avg_bmi, f_n_east_smoker_avg_bmi, f_n_east_non_smoker_avg_bmi, f_s_west_smoker_avg_bmi, f_s_west_non_smoker_avg_bmi, f_s_east_smoker_avg_bmi, f_s_east_non_smoker_avg_bmi)"
   ]
  },
  {
   "cell_type": "markdown",
   "metadata": {},
   "source": [
    "Here we see the average female bmi is the highest in the southeast for both smokers and non smokers"
   ]
  },
  {
   "cell_type": "markdown",
   "metadata": {},
   "source": [
    "# Average Male Age by Region"
   ]
  },
  {
   "cell_type": "code",
   "execution_count": 211,
   "metadata": {},
   "outputs": [],
   "source": [
    "def analyze_age_by_region_smokers_v_non(nws, nwn, nes, nen, sws, swn, ses, sen):\n",
    "    print(f\"Norhtwest Smoker Average Age:\\t  {nws}\")\n",
    "    print(f\"Northwest Non Smoker Average Age: {nwn}\\n\")\n",
    "    print(f\"Northeast Smoker Average Age:\\t  {nes}\")\n",
    "    print(f\"Northeast Non Smoker Average Age: {nen}\\n\")\n",
    "    print(f\"Southwest Smoker Average Age:\\t  {sws}\")\n",
    "    print(f\"Southwest Non Smoker Average Age: {swn}\\n\")\n",
    "    print(f\"Southeast Smoker Average Age:\\t  {ses}\")\n",
    "    print(f\"Southeast Non Smoker Average Age: {sen}\")"
   ]
  },
  {
   "cell_type": "code",
   "execution_count": 212,
   "metadata": {},
   "outputs": [],
   "source": [
    "m_n_west_smoker_avg_age = round(m_n_west_smokers['age'].mean(),2)\n",
    "m_n_west_non_smoker_avg_age = round(m_n_west_non_smokers['age'].mean(),2)\n",
    "m_n_east_smoker_avg_age = round(m_n_east_smokers['age'].mean(),2)\n",
    "m_n_east_non_smoker_avg_age = round(m_n_east_non_smokers['age'].mean(),2)\n",
    "m_s_west_smoker_avg_age = round(m_s_west_smokers['age'].mean(),2)\n",
    "m_s_west_non_smoker_avg_age = round(m_s_west_non_smokers['age'].mean(),2)\n",
    "m_s_east_smoker_avg_age = round(m_s_east_smokers['age'].mean(),2)\n",
    "m_s_east_non_smoker_avg_age = round(m_s_east_non_smokers['age'].mean(),2)"
   ]
  },
  {
   "cell_type": "code",
   "execution_count": 213,
   "metadata": {},
   "outputs": [
    {
     "name": "stdout",
     "output_type": "stream",
     "text": [
      "Norhtwest Smoker Average Age:\t  39.83\n",
      "Northwest Non Smoker Average Age: 38.57\n",
      "\n",
      "Northeast Smoker Average Age:\t  37.87\n",
      "Northeast Non Smoker Average Age: 39.22\n",
      "\n",
      "Southwest Smoker Average Age:\t  35.57\n",
      "Southwest Non Smoker Average Age: 40.28\n",
      "\n",
      "Southeast Smoker Average Age:\t  40.05\n",
      "Southeast Non Smoker Average Age: 38.26\n"
     ]
    }
   ],
   "source": [
    "analyze_age_by_region_smokers_v_non(m_n_west_smoker_avg_age, m_n_west_non_smoker_avg_age, m_n_east_smoker_avg_age, m_n_east_non_smoker_avg_age, m_s_west_smoker_avg_age, m_s_west_non_smoker_avg_age, m_s_east_smoker_avg_age, m_s_east_non_smoker_avg_age)"
   ]
  },
  {
   "cell_type": "markdown",
   "metadata": {},
   "source": [
    "Here we see that male patients who smoke in the southeast and male patients who do not smoke in the southwest have the highest average age"
   ]
  },
  {
   "cell_type": "markdown",
   "metadata": {},
   "source": [
    "# Average Female Age by Region"
   ]
  },
  {
   "cell_type": "code",
   "execution_count": 214,
   "metadata": {},
   "outputs": [],
   "source": [
    "f_n_west_smoker_avg_age = round(f_n_west_smokers['age'].mean(),2)\n",
    "f_n_west_non_smoker_avg_age = round(f_n_west_non_smokers['age'].mean(),2)\n",
    "f_n_east_smoker_avg_age = round(f_n_east_smokers['age'].mean(),2)\n",
    "f_n_east_non_smoker_avg_age = round(f_n_east_non_smokers['age'].mean(),2)\n",
    "f_s_west_smoker_avg_age = round(f_s_west_smokers['age'].mean(),2)\n",
    "f_s_west_non_smoker_avg_age = round(f_s_west_non_smokers['age'].mean(),2)\n",
    "f_s_east_smoker_avg_age = round(f_s_east_smokers['age'].mean(),2)\n",
    "f_s_east_non_smoker_avg_age = round(f_s_east_non_smokers['age'].mean(),2)"
   ]
  },
  {
   "cell_type": "code",
   "execution_count": 215,
   "metadata": {},
   "outputs": [
    {
     "name": "stdout",
     "output_type": "stream",
     "text": [
      "Norhtwest Smoker Average Age:\t  38.83\n",
      "Northwest Non Smoker Average Age: 39.76\n",
      "\n",
      "Northeast Smoker Average Age:\t  38.72\n",
      "Northeast Non Smoker Average Age: 39.84\n",
      "\n",
      "Southwest Smoker Average Age:\t  37.05\n",
      "Southwest Non Smoker Average Age: 40.1\n",
      "\n",
      "Southeast Smoker Average Age:\t  39.25\n",
      "Southeast Non Smoker Average Age: 39.07\n"
     ]
    }
   ],
   "source": [
    "analyze_age_by_region_smokers_v_non(f_n_west_smoker_avg_age, f_n_west_non_smoker_avg_age, f_n_east_smoker_avg_age, f_n_east_non_smoker_avg_age, f_s_west_smoker_avg_age, f_s_west_non_smoker_avg_age, f_s_east_smoker_avg_age, f_s_east_non_smoker_avg_age)"
   ]
  },
  {
   "cell_type": "markdown",
   "metadata": {},
   "source": [
    "Here we see that female patients throught all regions have fairly similar ages on average"
   ]
  },
  {
   "cell_type": "markdown",
   "metadata": {},
   "source": [
    "# Conclusion"
   ]
  },
  {
   "cell_type": "markdown",
   "metadata": {},
   "source": []
  }
 ],
 "metadata": {
  "kernelspec": {
   "display_name": "Python 3",
   "language": "python",
   "name": "python3"
  },
  "language_info": {
   "codemirror_mode": {
    "name": "ipython",
    "version": 3
   },
   "file_extension": ".py",
   "mimetype": "text/x-python",
   "name": "python",
   "nbconvert_exporter": "python",
   "pygments_lexer": "ipython3",
   "version": "3.8.3"
  }
 },
 "nbformat": 4,
 "nbformat_minor": 4
}
